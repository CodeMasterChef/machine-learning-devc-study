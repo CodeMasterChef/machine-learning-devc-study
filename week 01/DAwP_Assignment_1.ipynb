{
 "cells": [
  {
   "cell_type": "markdown",
   "metadata": {
    "colab_type": "text",
    "id": "jjZG7BNlbWtO"
   },
   "source": [
    "![](https://i.imgur.com/0AUxkXt.png)"
   ]
  },
  {
   "cell_type": "markdown",
   "metadata": {
    "colab_type": "text",
    "id": "jbpQzyjqbflM"
   },
   "source": [
    "# Assignment 1 - The Hacker Rank\n",
    "\n",
    "HackerRank is a place where programmers from all over the world come together to solve problems in a wide range of Computer Science domains.\n",
    "\n",
    "As you solve more challenges, you earn points and move up the HackerRank Leaderboard.\n",
    "\n",
    "Looking for a job at an awesome company? You can get hired by solving [challenges](https://www.hackerrank.com/jobs/search)!\n",
    "\n",
    "It's cool. Let's establish your knowledge and fight for glory!\n",
    "\n",
    "But before that let's make it clear that.."
   ]
  },
  {
   "cell_type": "markdown",
   "metadata": {
    "colab_type": "text",
    "id": "-ndmD4naciAN"
   },
   "source": [
    "## Note-taking is IMPORTANT\n",
    "\n",
    "Blog: [Why is note-taking important](https://nickblackbourn.com/blog/why-is-note-taking-important/)\n",
    "\n",
    "Note taking isn’t just important for college students, it’s a valuable life skill.\n",
    "\n",
    "Effective note taking helps you to remember information and aids your understanding of that information. \n",
    "\n",
    "**Notes boost your understanding**\n",
    "\n",
    "By making notes, you force yourself to construct a conceptual mental representation of the ideas you are grappling with. It is this process that helps you comprehend the subject matter you are working with.\n",
    "\n",
    "**Notes are a repository of your thinking**\n",
    "\n",
    "When you need to recall something that you came across a while ago, you can go over the main ideas by looking over your notes. This is why good, comprehensive notes are so useful; they are a catalogue of the best ideas you’ve encountered, and what you thought about them.\n",
    "\n",
    "etc.\n",
    "\n",
    "\n",
    "\n",
    "\n",
    "\n",
    "\n",
    "\n"
   ]
  },
  {
   "cell_type": "markdown",
   "metadata": {
    "colab_type": "text",
    "id": "IGvKPsdVfX-F"
   },
   "source": [
    "## Requirements\n",
    "\n",
    "Pick 10 challenges on HackerRank about SQL and 5 about Python in **easy** level:\n",
    "\n",
    "[HackerRank - Domain SQL](https://www.hackerrank.com/domains/sql?filters%5Bdifficulty%5D%5B%5D=easy&filters%5Bsubdomains%5D%5B%5D=select)\n",
    "\n",
    "[HackerRank - Domain Python](https://www.hackerrank.com/domains/python?filters%5Bdifficulty%5D%5B%5D=easy)\n",
    "\n",
    "For each challenge:\n",
    "\n",
    "* Create a markdown cell first that describes the challenge.\n",
    "* Solve the challenge on HackerRank and copy your solution to a code cell below\n",
    "* (Optional) A short description about how you came up with the solution would be awesome."
   ]
  },
  {
   "cell_type": "markdown",
   "metadata": {
    "colab_type": "text",
    "id": "higGK1Y5iAea"
   },
   "source": [
    "## Example"
   ]
  },
  {
   "cell_type": "markdown",
   "metadata": {
    "colab_type": "text",
    "id": "D2yU2FYDi4tj"
   },
   "source": [
    "### SQL"
   ]
  },
  {
   "cell_type": "markdown",
   "metadata": {
    "colab_type": "text",
    "id": "gu4DDH7Ki77C"
   },
   "source": [
    "\n",
    "#### Problem 1\n",
    "\n",
    "Query all columns for all American cities in **CITY** with populations larger than 100000. The CountryCode for America is USA.\n",
    "\n",
    "**Input Format**\n",
    "\n",
    "The **CITY** table is described as follows:\n",
    "\n",
    "| Field | Type |\n",
    "|:----:|:---:|\n",
    "| ID | NUMBER |\n",
    "| NAME | VARCHAR2(17) |\n",
    "| COUNTRYCODE | VARCHAR2(3) |\n",
    "| DISTRICT | VARCHAR2(20) |\n",
    "| POPULATION | NUMBER |"
   ]
  },
  {
   "cell_type": "code",
   "execution_count": 0,
   "metadata": {
    "colab": {},
    "colab_type": "code",
    "id": "hhAwMjyhbT1b"
   },
   "outputs": [],
   "source": [
    "# Solution\n",
    "# SELECT * from city WHERE population>100000 AND countrycode='USA';"
   ]
  },
  {
   "cell_type": "markdown",
   "metadata": {
    "colab_type": "text",
    "id": "0AxyfiJijJ7T"
   },
   "source": [
    "### Python"
   ]
  },
  {
   "cell_type": "markdown",
   "metadata": {
    "colab_type": "text",
    "id": "PEW8LsB5jLqf"
   },
   "source": [
    "#### Problem 1\n",
    "\n",
    "**Task** \n",
    "Given an integer, , perform the following conditional actions:\n",
    "\n",
    "* If `n` is odd, print *Weird*\n",
    "* If `n` is even and in the inclusive range of 2 to 5, print *Not Weird*\n",
    "* If `n` is even and in the inclusive range of 6 to 20, print *Weird*\n",
    "* If `n` is even and greater than 20, print *Not Weird*\n",
    "\n",
    "**Input Format**\n",
    "\n",
    "A single line containing a positive integer, .\n",
    "\n",
    "**Output Format**\n",
    "\n",
    "Print Weird if the number is weird; otherwise, print Not Weird."
   ]
  },
  {
   "cell_type": "code",
   "execution_count": null,
   "metadata": {
    "colab": {},
    "colab_type": "code",
    "id": "JBOxgw0zjLC2"
   },
   "outputs": [],
   "source": [
    "n = int(input())\n",
    "\n",
    "if n % 2 == 1:\n",
    "    print('Weird')\n",
    "else:\n",
    "    if (n >= 2) and (n <= 5):\n",
    "        print('Not Weird')\n",
    "    elif (n >= 6) and (n <= 20):\n",
    "        print('Weird')\n",
    "    else:\n",
    "        print('Not Weird')"
   ]
  },
  {
   "cell_type": "markdown",
   "metadata": {
    "colab_type": "text",
    "id": "a-Q3VE7YkA9A"
   },
   "source": [
    "## Your turn\n",
    "\n",
    "Good luck and have fun!"
   ]
  },
  {
   "cell_type": "markdown",
   "metadata": {
    "colab": {},
    "colab_type": "code",
    "id": "RdkdZgjaj0To"
   },
   "source": [
    "#### Problem 2: Arithmetic Operators\n",
    "\n",
    "**Task**\n",
    "\n",
    "Read two integers from STDIN and print three lines where:\n",
    "\n",
    "The first line contains the sum of the two numbers.\n",
    "The second line contains the difference of the two numbers (first - second).\n",
    "The third line contains the product of the two numbers.\n",
    "Input Format\n",
    "\n",
    "The first line contains the first integer, `a`. The second line contains the second integer, `b`.\n",
    "\n",
    "**Constraints**\n",
    "![image](https://user-images.githubusercontent.com/10974517/61372930-99dc8a80-a8c2-11e9-8db3-9e5c5be9bd16.png)\n",
    "\n",
    "\n",
    "**Output Format**\n",
    "\n",
    "Print the three lines as explained above.\n",
    "\n",
    "**Sample Input 0**\n",
    "```\n",
    "3\n",
    "2\n",
    "```\n",
    "**Sample Output 0**\n",
    "```\n",
    "5\n",
    "1\n",
    "6\n",
    "```\n",
    "**Explanation 0**\n",
    "![image](https://user-images.githubusercontent.com/10974517/61372974-b1b40e80-a8c2-11e9-9f4f-420fda288be0.png)\n"
   ]
  },
  {
   "cell_type": "code",
   "execution_count": null,
   "metadata": {},
   "outputs": [],
   "source": [
    "if __name__ == '__main__':\n",
    "    a = int(input())\n",
    "    b = int(input())\n",
    "    print (a + b)\n",
    "    print (a - b)\n",
    "    print (a * b)"
   ]
  },
  {
   "cell_type": "markdown",
   "metadata": {},
   "source": [
    "#### Problem 3: Division\n",
    "**Task**\n",
    "Read two integers and print two lines. The first line should contain integer division,  `a//b` . The second line should contain float division,  `a/b` .\n",
    "\n",
    "You don't need to perform any rounding or formatting operations.\n",
    "\n",
    "**Input Format**\n",
    "\n",
    "The first line contains the first integer, `a`. The second line contains the second integer, `b`.\n",
    "\n",
    "**Output Format**\n",
    "\n",
    "Print the two lines as described above.\n",
    "\n",
    "**Sample Input 0**\n",
    "```\n",
    "4\n",
    "3\n",
    "```\n",
    "**Sample Output 0**\n",
    "```\n",
    "1\n",
    "1.33333333333\n",
    "```"
   ]
  },
  {
   "cell_type": "code",
   "execution_count": null,
   "metadata": {},
   "outputs": [],
   "source": [
    "if __name__ == '__main__':\n",
    "    a = int(input())\n",
    "    b = int(input())\n",
    "    print(a//b)\n",
    "    print(a/b)"
   ]
  },
  {
   "cell_type": "markdown",
   "metadata": {},
   "source": [
    "#### Problem 4: Loops\n",
    "\n",
    "**Task**\n",
    "Read an integer `N` . For all non-negative integers `i < N` , print $N^{2}$ . See the sample for details.\n",
    "\n",
    "**Input Format**\n",
    "\n",
    "The first and only line contains the integer, .\n",
    "\n",
    "**Constraints**\n",
    "\n",
    "\n",
    "**Output Format**\n",
    "\n",
    "Print  lines, one corresponding to each .\n",
    "\n",
    "**Sample Input 0**\n",
    "```\n",
    "5\n",
    "```\n",
    "**Sample Output 0**\n",
    "```\n",
    "0\n",
    "1\n",
    "4\n",
    "9\n",
    "16\n",
    "```"
   ]
  },
  {
   "cell_type": "code",
   "execution_count": null,
   "metadata": {},
   "outputs": [],
   "source": [
    "if __name__ == '__main__':\n",
    "    n = int(input())\n",
    "    i = 0\n",
    "    while i < n:\n",
    "        print (i * i)\n",
    "        i+=1"
   ]
  },
  {
   "cell_type": "markdown",
   "metadata": {},
   "source": [
    "#### Problem 4: Write a function\n",
    "We add a Leap Day on February 29, almost every four years. The leap day is an extra, or intercalary day and we add it to the shortest month of the year, February. \n",
    "In the Gregorian calendar three criteria must be taken into account to identify leap years:\n",
    "\n",
    "The year can be evenly divided by 4, is a leap year, unless:\n",
    "The year can be evenly divided by 100, it is NOT a leap year, unless:\n",
    "The year is also evenly divisible by 400. Then it is a leap year.\n",
    "This means that in the Gregorian calendar, the years 2000 and 2400 are leap years, while 1800, 1900, 2100, 2200, 2300 and 2500 are NOT leap years.[Source](https://www.timeanddate.com/date/leapyear.html)"
   ]
  },
  {
   "cell_type": "markdown",
   "metadata": {},
   "source": []
  },
  {
   "cell_type": "code",
   "execution_count": null,
   "metadata": {},
   "outputs": [],
   "source": []
  }
 ],
 "metadata": {
  "colab": {
   "name": "DAwP_Assignment_1.ipynb",
   "provenance": [],
   "version": "0.3.2"
  },
  "kernelspec": {
   "display_name": "Python 3",
   "language": "python",
   "name": "python3"
  },
  "language_info": {
   "codemirror_mode": {
    "name": "ipython",
    "version": 3
   },
   "file_extension": ".py",
   "mimetype": "text/x-python",
   "name": "python",
   "nbconvert_exporter": "python",
   "pygments_lexer": "ipython3",
   "version": "3.6.5"
  }
 },
 "nbformat": 4,
 "nbformat_minor": 1
}
